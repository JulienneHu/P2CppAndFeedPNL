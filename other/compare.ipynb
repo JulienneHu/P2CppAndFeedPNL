{
 "cells": [
  {
   "cell_type": "code",
   "execution_count": 1,
   "metadata": {},
   "outputs": [
    {
     "name": "stdout",
     "output_type": "stream",
     "text": [
      "Call option price: 7.58\n",
      "CPU times: user 382 ms, sys: 134 ms, total: 515 ms\n",
      "Wall time: 801 ms\n"
     ]
    }
   ],
   "source": [
    "x"
   ]
  },
  {
   "cell_type": "code",
   "execution_count": 3,
   "metadata": {},
   "outputs": [
    {
     "name": "stdout",
     "output_type": "stream",
     "text": [
      "Compilation successful.\n",
      "Execution Time: 0.248181 seconds\n",
      "Output from C++ executable:\n",
      "Black-Scholes Price: 10.4506\n",
      "\n"
     ]
    }
   ],
   "source": [
    "import subprocess\n",
    "import time\n",
    "import os\n",
    "\n",
    "def compile_cpp_source(source_path, output_executable):\n",
    "    compile_command = [\"g++\", source_path, \"-o\", output_executable]\n",
    "    result = subprocess.run(compile_command, capture_output=True, text=True)\n",
    "    \n",
    "    if result.returncode != 0:\n",
    "        raise RuntimeError(f\"Compilation failed: {result.stderr}\")\n",
    "    \n",
    "    print(\"Compilation successful.\")\n",
    "    return output_executable\n",
    "\n",
    "def run_cpp_executable(executable_path):\n",
    "    start_time = time.time()\n",
    "    result = subprocess.run([executable_path], capture_output=True, text=True)\n",
    "    end_time = time.time()\n",
    "\n",
    "    execution_time = end_time - start_time\n",
    "    output = result.stdout\n",
    "\n",
    "    return execution_time, output\n",
    "\n",
    "if __name__ == \"__main__\":\n",
    "    source_path = \"/Users/julienne_hu/Desktop/Option_Apps/other/bs.cpp\"\n",
    "    executable_path = \"/Users/julienne_hu/Desktop/Option_Apps/other/bs\"\n",
    "    \n",
    "    # Compile the C++ source file\n",
    "    compile_cpp_source(source_path, executable_path)\n",
    "    \n",
    "    # Run the compiled executable and measure execution time\n",
    "    execution_time, output = run_cpp_executable(executable_path)\n",
    "    \n",
    "    print(f\"Execution Time: {execution_time:.6f} seconds\")\n",
    "    print(\"Output from C++ executable:\")\n",
    "    print(output)\n"
   ]
  },
  {
   "cell_type": "code",
   "execution_count": null,
   "metadata": {},
   "outputs": [],
   "source": []
  }
 ],
 "metadata": {
  "kernelspec": {
   "display_name": "myenv",
   "language": "python",
   "name": "python3"
  },
  "language_info": {
   "codemirror_mode": {
    "name": "ipython",
    "version": 3
   },
   "file_extension": ".py",
   "mimetype": "text/x-python",
   "name": "python",
   "nbconvert_exporter": "python",
   "pygments_lexer": "ipython3",
   "version": "3.8.18"
  }
 },
 "nbformat": 4,
 "nbformat_minor": 2
}
